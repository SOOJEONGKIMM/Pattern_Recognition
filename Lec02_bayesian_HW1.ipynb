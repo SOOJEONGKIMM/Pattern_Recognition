{
 "cells": [
  {
   "cell_type": "markdown",
   "id": "c3e8ff11",
   "metadata": {},
   "source": [
    "# (Homework #1) Bayesian Learning and Naïve Bayes Classifier"
   ]
  },
  {
   "cell_type": "markdown",
   "id": "2773f54e",
   "metadata": {},
   "source": [
    "## SooJeong Kim"
   ]
  },
  {
   "cell_type": "code",
   "execution_count": 13,
   "id": "77747c9f",
   "metadata": {},
   "outputs": [],
   "source": [
    "import numpy as np\n",
    "import pandas as pd\n",
    "import os\n",
    "import datetime\n",
    "from datetime import date\n",
    "from datetime import datetime\n",
    "from fbprophet import Prophet\n",
    "from matplotlib import pyplot as plt\n",
    "import glob\n",
    "import pickle\n",
    "from scipy import io"
   ]
  },
  {
   "cell_type": "code",
   "execution_count": 14,
   "id": "7092c321",
   "metadata": {},
   "outputs": [],
   "source": [
    "mat_file1 = io.loadmat('./class1.mat')\n",
    "mat_file2 = io.loadmat('./class2.mat')\n"
   ]
  },
  {
   "cell_type": "markdown",
   "id": "08992550",
   "metadata": {},
   "source": [
    "##\n",
    "<br> 1. (Data visualization) Load the attached data (class1.mat and class2.mat) using Matlab or \n",
    " Python and plot each class in a different color. In this case, the first feature is called length, \n",
    " and the second feature is called weight.<br/>\n",
    "##"
   ]
  },
  {
   "cell_type": "code",
   "execution_count": 15,
   "id": "75c5dfe4",
   "metadata": {},
   "outputs": [
    {
     "data": {
      "text/plain": [
       "[67.40452054658589, 29.055030890885718]"
      ]
     },
     "execution_count": 15,
     "metadata": {},
     "output_type": "execute_result"
    }
   ],
   "source": [
    "[item.flat[0] for item in mat_file1['R'][0]]"
   ]
  },
  {
   "cell_type": "code",
   "execution_count": 16,
   "id": "8772e1c3",
   "metadata": {},
   "outputs": [
    {
     "data": {
      "text/plain": [
       "[83.2587039526277, 26.550746211291486]"
      ]
     },
     "execution_count": 16,
     "metadata": {},
     "output_type": "execute_result"
    }
   ],
   "source": [
    "[item.flat[0] for item in mat_file2['R'][0]]"
   ]
  },
  {
   "cell_type": "code",
   "execution_count": 17,
   "id": "f16a4ca0",
   "metadata": {},
   "outputs": [],
   "source": [
    "data1 = [[row.flat[0] for row in line] for line in mat_file1['R']]"
   ]
  },
  {
   "cell_type": "code",
   "execution_count": 18,
   "id": "9be47c24",
   "metadata": {},
   "outputs": [],
   "source": [
    "data2 = [[row.flat[0] for row in line] for line in mat_file2['R']]"
   ]
  },
  {
   "cell_type": "code",
   "execution_count": 22,
   "id": "142bc032",
   "metadata": {},
   "outputs": [],
   "source": [
    "columns1 = ['length_1','weight_1']\n",
    "columns2 = ['length_2','weight_2']\n",
    "df_1 = pd.DataFrame(data1, columns = columns1)\n",
    "df_2 = pd.DataFrame(data2, columns = columns2)\n",
    "df = pd.concat([df_1, df_2],axis=1)"
   ]
  },
  {
   "cell_type": "code",
   "execution_count": 23,
   "id": "e903294a",
   "metadata": {},
   "outputs": [],
   "source": [
    "%matplotlib inline\n",
    "import numpy as np\n",
    "import matplotlib.pyplot as plt\n",
    "import seaborn as sns; sns.set()"
   ]
  },
  {
   "cell_type": "code",
   "execution_count": 24,
   "id": "03bb4500",
   "metadata": {},
   "outputs": [
    {
     "data": {
      "image/png": "[encoded data removed]",
      "text/plain": [
       "<Figure size 432x288 with 1 Axes>"
      ]
     },
     "metadata": {},
     "output_type": "display_data"
    }
   ],
   "source": [
    "plt.scatter(df['length_1'] , df['weight_1'], alpha=0.4, color='red',label='class 1')\n",
    "plt.scatter(df['length_2'] , df['weight_2'], alpha=0.4, color='blue',label='class 2')\n",
    "plt.xlabel(\"length\")\n",
    "plt.ylabel(\"weight\")\n",
    "plt.legend()\n",
    "plt.show()"
   ]
  },
  {
   "cell_type": "markdown",
   "id": "b56c64b1",
   "metadata": {},
   "source": [
    "##\n",
    "<br> 2. (Data statistic) Calculate the mean and covariance of each class and write them down<br/>\n",
    "##"
   ]
  },
  {
   "cell_type": "code",
   "execution_count": 25,
   "id": "7f96f8de",
   "metadata": {},
   "outputs": [],
   "source": [
    "mean1 = np.array([np.mean(df['length_1']),np.mean(df['weight_1'])],dtype=np.float32)"
   ]
  },
  {
   "cell_type": "code",
   "execution_count": 26,
   "id": "d709fd5a",
   "metadata": {},
   "outputs": [],
   "source": [
    "mean2 = np.array([np.mean(df['length_2']),np.mean(df['weight_2'])],dtype=np.float32)"
   ]
  },
  {
   "cell_type": "markdown",
   "id": "7dea4b64",
   "metadata": {},
   "source": [
    "#Means for each class"
   ]
  },
  {
   "cell_type": "code",
   "execution_count": 27,
   "id": "a1afac5b",
   "metadata": {},
   "outputs": [
    {
     "data": {
      "text/plain": [
       "array([65.55045 , 21.397417], dtype=float32)"
      ]
     },
     "execution_count": 27,
     "metadata": {},
     "output_type": "execute_result"
    }
   ],
   "source": [
    "mean1"
   ]
  },
  {
   "cell_type": "code",
   "execution_count": 28,
   "id": "b7055b01",
   "metadata": {},
   "outputs": [
    {
     "data": {
      "text/plain": [
       "array([79.33298 , 30.232327], dtype=float32)"
      ]
     },
     "execution_count": 28,
     "metadata": {},
     "output_type": "execute_result"
    }
   ],
   "source": [
    "mean2"
   ]
  },
  {
   "cell_type": "code",
   "execution_count": 29,
   "id": "2af8d788",
   "metadata": {},
   "outputs": [],
   "source": [
    "#covariance 구하는 방법 1\n",
    "def cov(a, b):\n",
    "\n",
    "    if len(a) != len(b):\n",
    "        return\n",
    "\n",
    "    a_mean = np.mean(a)\n",
    "    b_mean = np.mean(b)\n",
    "\n",
    "    sum = 0\n",
    "\n",
    "    for i in range(0, len(a)):\n",
    "        sum = ((a - a_mean) * (b - b_mean)).sum()\n",
    "\n",
    "    return sum/(len(a))"
   ]
  },
  {
   "cell_type": "code",
   "execution_count": 30,
   "id": "20c5a467",
   "metadata": {},
   "outputs": [],
   "source": [
    "t_df = np.transpose(df)"
   ]
  },
  {
   "cell_type": "code",
   "execution_count": 31,
   "id": "77725086",
   "metadata": {},
   "outputs": [],
   "source": [
    "cov1_ = np.cov(df['length_1'],df['weight_1'])\n",
    "cov2_ = np.cov(df['length_2'],df['weight_2'])"
   ]
  },
  {
   "cell_type": "code",
   "execution_count": 32,
   "id": "7250a413",
   "metadata": {},
   "outputs": [],
   "source": [
    "cov1 = np.cov(t_df.iloc[0],t_df.iloc[1])\n",
    "cov2 = np.cov(t_df.iloc[2],t_df.iloc[3]) #cov1_과 cov1 값 같음 "
   ]
  },
  {
   "cell_type": "markdown",
   "id": "1d2f3692",
   "metadata": {},
   "source": [
    "#Covariances for each class"
   ]
  },
  {
   "cell_type": "code",
   "execution_count": 33,
   "id": "c9a3db30",
   "metadata": {},
   "outputs": [
    {
     "data": {
      "text/plain": [
       "array([[27.02342512,  3.56713765],\n",
       "       [ 3.56713765, 70.77560176]])"
      ]
     },
     "execution_count": 33,
     "metadata": {},
     "output_type": "execute_result"
    }
   ],
   "source": [
    "cov1"
   ]
  },
  {
   "cell_type": "code",
   "execution_count": 34,
   "id": "1dfa752d",
   "metadata": {},
   "outputs": [
    {
     "data": {
      "text/plain": [
       "array([[41.42775115,  5.01652587],\n",
       "       [ 5.01652587, 44.89646531]])"
      ]
     },
     "execution_count": 34,
     "metadata": {},
     "output_type": "execute_result"
    }
   ],
   "source": [
    "cov2"
   ]
  },
  {
   "cell_type": "code",
   "execution_count": 35,
   "id": "4ebe169f",
   "metadata": {},
   "outputs": [
    {
     "data": {
      "text/plain": [
       "\"\\ncov1 = cov(df['length_1'] , df['weight_1'])  \\ncov2 = cov(df['length_2'] , df['weight_2'])\\n\""
      ]
     },
     "execution_count": 35,
     "metadata": {},
     "output_type": "execute_result"
    }
   ],
   "source": [
    "'''\n",
    "cov1 = cov(df['length_1'] , df['weight_1'])  \n",
    "cov2 = cov(df['length_2'] , df['weight_2'])\n",
    "'''"
   ]
  },
  {
   "cell_type": "code",
   "execution_count": 36,
   "id": "96f5c432",
   "metadata": {},
   "outputs": [
    {
     "data": {
      "text/plain": [
       "'\\nprint(\"covariance value for class 1: \",np.cov(df[\\'length_1\\'] , df[\\'weight_1\\'], bias=True)[0][1])\\nprint(\"covariance value for class 2: \",np.cov(df[\\'length_2\\'] , df[\\'weight_2\\'], bias=True)[0][1])\\n'"
      ]
     },
     "execution_count": 36,
     "metadata": {},
     "output_type": "execute_result"
    }
   ],
   "source": [
    "#covariance 구하는 방법 2\n",
    "'''\n",
    "print(\"covariance value for class 1: \",np.cov(df['length_1'] , df['weight_1'], bias=True)[0][1])\n",
    "print(\"covariance value for class 2: \",np.cov(df['length_2'] , df['weight_2'], bias=True)[0][1])\n",
    "'''"
   ]
  },
  {
   "cell_type": "markdown",
   "id": "e25fd791",
   "metadata": {},
   "source": [
    "##\n",
    "<br> 3. (Make predictions) \n",
    "\n",
    "\n",
    " a) Load the test file (observation. mat) and calculate the likelihood for each class using \n",
    " the mean and covariance calculated in Problem 2<br/>\n",
    "##"
   ]
  },
  {
   "cell_type": "code",
   "execution_count": 40,
   "id": "b7589142",
   "metadata": {},
   "outputs": [],
   "source": [
    "from scipy.stats import multivariate_normal"
   ]
  },
  {
   "cell_type": "markdown",
   "id": "eb87ba07",
   "metadata": {},
   "source": [
    "#likelihood for class 1"
   ]
  },
  {
   "cell_type": "code",
   "execution_count": 41,
   "id": "1874d212",
   "metadata": {},
   "outputs": [
    {
     "data": {
      "text/plain": [
       "3.7003843500621174e-37"
      ]
     },
     "execution_count": 41,
     "metadata": {},
     "output_type": "execute_result"
    }
   ],
   "source": [
    "from scipy.stats import multivariate_normal\n",
    "var = multivariate_normal(mean=mean1, cov=cov1)\n",
    "var.pdf([1.0,0.0])"
   ]
  },
  {
   "cell_type": "markdown",
   "id": "44d7de54",
   "metadata": {},
   "source": [
    "#likelihood for class 2"
   ]
  },
  {
   "cell_type": "code",
   "execution_count": 42,
   "id": "55249a5d",
   "metadata": {},
   "outputs": [
    {
     "data": {
      "text/plain": [
       "1.98127401244263e-37"
      ]
     },
     "execution_count": 42,
     "metadata": {},
     "output_type": "execute_result"
    }
   ],
   "source": [
    "from scipy.stats import multivariate_normal\n",
    "var = multivariate_normal(mean=mean2, cov=cov2)\n",
    "var.pdf([1.0,0.0])"
   ]
  },
  {
   "cell_type": "markdown",
   "id": "f725053f",
   "metadata": {},
   "source": [
    "##\n",
    "<br> b) Classify which class each sample of the test file (observation.mat) belongs to and give \n",
    " the explanations.<br/>\n",
    "##"
   ]
  },
  {
   "cell_type": "code",
   "execution_count": 156,
   "id": "cd62710e",
   "metadata": {},
   "outputs": [],
   "source": [
    "np_df = df.to_numpy()"
   ]
  },
  {
   "cell_type": "code",
   "execution_count": 43,
   "id": "ea593df2",
   "metadata": {},
   "outputs": [],
   "source": [
    "obs= io.loadmat('./observation.mat')"
   ]
  },
  {
   "cell_type": "code",
   "execution_count": 44,
   "id": "7c8915e3",
   "metadata": {},
   "outputs": [],
   "source": [
    "[item.flat[0] for item in obs['obs'][0]]\n",
    "data_obs = [[row.flat[0] for row in line] for line in obs['obs']]\n",
    "columns_o = ['length_o','weight_o']\n",
    "df_o = pd.DataFrame(data_obs, columns = columns_o)"
   ]
  },
  {
   "cell_type": "code",
   "execution_count": 95,
   "id": "dfcbfd74",
   "metadata": {},
   "outputs": [],
   "source": [
    "import math\n",
    "from scipy import stats\n",
    "from scipy.special import factorial\n",
    "from matplotlib import pyplot as plt"
   ]
  },
  {
   "cell_type": "code",
   "execution_count": 189,
   "id": "85f04879",
   "metadata": {},
   "outputs": [],
   "source": [
    "df_ver=df_1\n",
    "df_verr=df_2"
   ]
  },
  {
   "cell_type": "code",
   "execution_count": 191,
   "id": "408d5d10",
   "metadata": {},
   "outputs": [],
   "source": [
    "df_ver.columns=['length','weight']\n",
    "df_verr.columns=['length','weight']"
   ]
  },
  {
   "cell_type": "code",
   "execution_count": 193,
   "id": "6ca06a85",
   "metadata": {},
   "outputs": [],
   "source": [
    "df_ver = pd.concat([df_ver,df_verr],axis=0)"
   ]
  },
  {
   "cell_type": "code",
   "execution_count": 199,
   "id": "d1862b83",
   "metadata": {},
   "outputs": [],
   "source": [
    "df_ver.columns=['length','weight']"
   ]
  },
  {
   "cell_type": "code",
   "execution_count": 216,
   "id": "828b9bb6",
   "metadata": {},
   "outputs": [
    {
     "name": "stderr",
     "output_type": "stream",
     "text": [
      "C:\\Users\\poohl\\anaconda3\\lib\\site-packages\\pandas\\core\\indexing.py:1637: SettingWithCopyWarning: \n",
      "A value is trying to be set on a copy of a slice from a DataFrame\n",
      "\n",
      "See the caveats in the documentation: https://pandas.pydata.org/pandas-docs/stable/user_guide/indexing.html#returning-a-view-versus-a-copy\n",
      "  self._setitem_single_block(indexer, value, name)\n"
     ]
    }
   ],
   "source": [
    "df_ver['class'].iloc[:100]=\"1\"\n",
    "df_ver['class'].iloc[100:200]=\"2\""
   ]
  },
  {
   "cell_type": "code",
   "execution_count": 244,
   "id": "de01573f",
   "metadata": {},
   "outputs": [],
   "source": [
    "from sklearn.naive_bayes import GaussianNB\n",
    "gnb = GaussianNB()\n",
    "y = df_ver['class'].to_numpy()\n",
    "gnb.fit(df_ver.loc[:,['length','weight']].to_numpy(), y)"
   ]
  },
  {
   "cell_type": "code",
   "execution_count": 219,
   "id": "8c0baaca",
   "metadata": {},
   "outputs": [
    {
     "data": {
      "text/plain": [
       "array([[65, 22],\n",
       "       [75, 25],\n",
       "       [80, 31],\n",
       "       [90, 36],\n",
       "       [60, 20],\n",
       "       [70, 30]], dtype=uint8)"
      ]
     },
     "execution_count": 219,
     "metadata": {},
     "output_type": "execute_result"
    }
   ],
   "source": [
    "obs['obs']"
   ]
  },
  {
   "cell_type": "code",
   "execution_count": 239,
   "id": "a83acba8",
   "metadata": {},
   "outputs": [
    {
     "data": {
      "text/plain": [
       "array(['1', '2', '2', '2', '1', '1'], dtype='<U1')"
      ]
     },
     "execution_count": 239,
     "metadata": {},
     "output_type": "execute_result"
    }
   ],
   "source": [
    "y_pred = gnb.predict(obs['obs'])\n",
    "\n",
    "y_pred"
   ]
  },
  {
   "cell_type": "code",
   "execution_count": 253,
   "id": "b60328fb",
   "metadata": {},
   "outputs": [],
   "source": [
    "df_o_class = df_o"
   ]
  },
  {
   "cell_type": "code",
   "execution_count": 254,
   "id": "3b6579e3",
   "metadata": {},
   "outputs": [],
   "source": [
    "df_o_class['class']=y_pred"
   ]
  },
  {
   "cell_type": "markdown",
   "id": "a9203716",
   "metadata": {},
   "source": [
    "##Table 'df_o_class' shows the classification which class each sample of the test file (observation.mat) belongs to.\n",
    "I used Gaussian Distribution to classify(predict) classes for each sample in obs test file."
   ]
  },
  {
   "cell_type": "code",
   "execution_count": 243,
   "id": "83545a7e",
   "metadata": {},
   "outputs": [
    {
     "data": {
      "text/html": [
       "<div>\n",
       "<style scoped>\n",
       "    .dataframe tbody tr th:only-of-type {\n",
       "        vertical-align: middle;\n",
       "    }\n",
       "\n",
       "    .dataframe tbody tr th {\n",
       "        vertical-align: top;\n",
       "    }\n",
       "\n",
       "    .dataframe thead th {\n",
       "        text-align: right;\n",
       "    }\n",
       "</style>\n",
       "<table border=\"1\" class=\"dataframe\">\n",
       "  <thead>\n",
       "    <tr style=\"text-align: right;\">\n",
       "      <th></th>\n",
       "      <th>length_o</th>\n",
       "      <th>weight_o</th>\n",
       "      <th>class</th>\n",
       "    </tr>\n",
       "  </thead>\n",
       "  <tbody>\n",
       "    <tr>\n",
       "      <th>0</th>\n",
       "      <td>65</td>\n",
       "      <td>22</td>\n",
       "      <td>1</td>\n",
       "    </tr>\n",
       "    <tr>\n",
       "      <th>1</th>\n",
       "      <td>75</td>\n",
       "      <td>25</td>\n",
       "      <td>2</td>\n",
       "    </tr>\n",
       "    <tr>\n",
       "      <th>2</th>\n",
       "      <td>80</td>\n",
       "      <td>31</td>\n",
       "      <td>2</td>\n",
       "    </tr>\n",
       "    <tr>\n",
       "      <th>3</th>\n",
       "      <td>90</td>\n",
       "      <td>36</td>\n",
       "      <td>2</td>\n",
       "    </tr>\n",
       "    <tr>\n",
       "      <th>4</th>\n",
       "      <td>60</td>\n",
       "      <td>20</td>\n",
       "      <td>1</td>\n",
       "    </tr>\n",
       "    <tr>\n",
       "      <th>5</th>\n",
       "      <td>70</td>\n",
       "      <td>30</td>\n",
       "      <td>1</td>\n",
       "    </tr>\n",
       "  </tbody>\n",
       "</table>\n",
       "</div>"
      ],
      "text/plain": [
       "   length_o  weight_o class\n",
       "0        65        22     1\n",
       "1        75        25     2\n",
       "2        80        31     2\n",
       "3        90        36     2\n",
       "4        60        20     1\n",
       "5        70        30     1"
      ]
     },
     "execution_count": 243,
     "metadata": {},
     "output_type": "execute_result"
    }
   ],
   "source": [
    "df_o_class"
   ]
  },
  {
   "cell_type": "code",
   "execution_count": 91,
   "id": "4a98a9ce",
   "metadata": {},
   "outputs": [
    {
     "data": {
      "text/plain": [
       "array([65.55045], dtype=float32)"
      ]
     },
     "execution_count": 91,
     "metadata": {},
     "output_type": "execute_result"
    }
   ],
   "source": [
    "mean1_len"
   ]
  },
  {
   "cell_type": "code",
   "execution_count": 45,
   "id": "c5e4ec03",
   "metadata": {},
   "outputs": [],
   "source": [
    "mean1_len = np.array([np.mean(df['length_1'])],dtype=np.float32)\n",
    "mean2_len = np.array([np.mean(df['length_2'])],dtype=np.float32)\n",
    "cov1_len = np.cov(df['length_1'])\n",
    "cov2_len = np.cov(df['length_2'])                  "
   ]
  },
  {
   "cell_type": "code",
   "execution_count": 84,
   "id": "ec686081",
   "metadata": {},
   "outputs": [
    {
     "data": {
      "text/plain": [
       "array([65.55045], dtype=float32)"
      ]
     },
     "execution_count": 84,
     "metadata": {},
     "output_type": "execute_result"
    }
   ],
   "source": [
    "mean1_len"
   ]
  },
  {
   "cell_type": "code",
   "execution_count": 47,
   "id": "85ca2677",
   "metadata": {},
   "outputs": [],
   "source": [
    "t_df_o = np.transpose(df_o)"
   ]
  },
  {
   "cell_type": "code",
   "execution_count": 49,
   "id": "1bf502c2",
   "metadata": {},
   "outputs": [],
   "source": [
    "from math import pi\n",
    "from numpy.linalg import det "
   ]
  },
  {
   "cell_type": "code",
   "execution_count": 50,
   "id": "3f169cc9",
   "metadata": {},
   "outputs": [],
   "source": [
    "# Example of Gaussian PDF\n",
    "from math import sqrt\n",
    "from math import pi\n",
    "from math import exp\n",
    " \n",
    "# Calculate the Gaussian probability distribution function for x\n",
    "def calculate_probability(x, mean, stdev):\n",
    "    exponent = exp(-((x-mean)**2 / (2 * stdev**2 )))\n",
    "    return (1 / (sqrt(2 * pi) * stdev)) * exponent"
   ]
  },
  {
   "cell_type": "markdown",
   "id": "4052b1a5",
   "metadata": {},
   "source": [
    " #<br>\n",
    " c) Perform the above process only for the first feature (length)<br/>\n",
    " #"
   ]
  },
  {
   "cell_type": "code",
   "execution_count": 245,
   "id": "72eb6e96",
   "metadata": {},
   "outputs": [
    {
     "data": {
      "text/plain": [
       "GaussianNB()"
      ]
     },
     "execution_count": 245,
     "metadata": {},
     "output_type": "execute_result"
    }
   ],
   "source": [
    "gnb = GaussianNB()\n",
    "y = df_ver['class'].to_numpy()\n",
    "gnb.fit(df_ver.loc[:,['length']].to_numpy(), y)"
   ]
  },
  {
   "cell_type": "code",
   "execution_count": 246,
   "id": "2269b223",
   "metadata": {},
   "outputs": [
    {
     "data": {
      "text/plain": [
       "array(['1', '1', '1', '2', '1', '1'], dtype='<U1')"
      ]
     },
     "execution_count": 246,
     "metadata": {},
     "output_type": "execute_result"
    }
   ],
   "source": [
    "y_pred = gnb.predict(obs['obs'])\n",
    "\n",
    "y_pred"
   ]
  },
  {
   "cell_type": "code",
   "execution_count": 247,
   "id": "98d65bb8",
   "metadata": {},
   "outputs": [],
   "source": [
    "df_o_class['class_o']=y_pred"
   ]
  },
  {
   "cell_type": "code",
   "execution_count": 248,
   "id": "2a17fa43",
   "metadata": {},
   "outputs": [
    {
     "data": {
      "text/html": [
       "<div>\n",
       "<style scoped>\n",
       "    .dataframe tbody tr th:only-of-type {\n",
       "        vertical-align: middle;\n",
       "    }\n",
       "\n",
       "    .dataframe tbody tr th {\n",
       "        vertical-align: top;\n",
       "    }\n",
       "\n",
       "    .dataframe thead th {\n",
       "        text-align: right;\n",
       "    }\n",
       "</style>\n",
       "<table border=\"1\" class=\"dataframe\">\n",
       "  <thead>\n",
       "    <tr style=\"text-align: right;\">\n",
       "      <th></th>\n",
       "      <th>length_o</th>\n",
       "      <th>weight_o</th>\n",
       "      <th>class</th>\n",
       "      <th>class_o</th>\n",
       "    </tr>\n",
       "  </thead>\n",
       "  <tbody>\n",
       "    <tr>\n",
       "      <th>0</th>\n",
       "      <td>65</td>\n",
       "      <td>22</td>\n",
       "      <td>1</td>\n",
       "      <td>1</td>\n",
       "    </tr>\n",
       "    <tr>\n",
       "      <th>1</th>\n",
       "      <td>75</td>\n",
       "      <td>25</td>\n",
       "      <td>2</td>\n",
       "      <td>1</td>\n",
       "    </tr>\n",
       "    <tr>\n",
       "      <th>2</th>\n",
       "      <td>80</td>\n",
       "      <td>31</td>\n",
       "      <td>2</td>\n",
       "      <td>1</td>\n",
       "    </tr>\n",
       "    <tr>\n",
       "      <th>3</th>\n",
       "      <td>90</td>\n",
       "      <td>36</td>\n",
       "      <td>2</td>\n",
       "      <td>2</td>\n",
       "    </tr>\n",
       "    <tr>\n",
       "      <th>4</th>\n",
       "      <td>60</td>\n",
       "      <td>20</td>\n",
       "      <td>1</td>\n",
       "      <td>1</td>\n",
       "    </tr>\n",
       "    <tr>\n",
       "      <th>5</th>\n",
       "      <td>70</td>\n",
       "      <td>30</td>\n",
       "      <td>1</td>\n",
       "      <td>1</td>\n",
       "    </tr>\n",
       "  </tbody>\n",
       "</table>\n",
       "</div>"
      ],
      "text/plain": [
       "   length_o  weight_o class class_o\n",
       "0        65        22     1       1\n",
       "1        75        25     2       1\n",
       "2        80        31     2       1\n",
       "3        90        36     2       2\n",
       "4        60        20     1       1\n",
       "5        70        30     1       1"
      ]
     },
     "execution_count": 248,
     "metadata": {},
     "output_type": "execute_result"
    }
   ],
   "source": [
    "df_o_class"
   ]
  },
  {
   "cell_type": "code",
   "execution_count": 51,
   "id": "b7036c98",
   "metadata": {},
   "outputs": [
    {
     "data": {
      "text/plain": [
       "0.014163088898188462"
      ]
     },
     "execution_count": 51,
     "metadata": {},
     "output_type": "execute_result"
    }
   ],
   "source": [
    "#probability for class 1 - length\n",
    "calculate_probability(np.mean(df_o['length_o']),mean1_len,cov1_len) "
   ]
  },
  {
   "cell_type": "code",
   "execution_count": 86,
   "id": "71d22ad0",
   "metadata": {},
   "outputs": [
    {
     "data": {
      "text/plain": [
       "0.009529374640829216"
      ]
     },
     "execution_count": 86,
     "metadata": {},
     "output_type": "execute_result"
    }
   ],
   "source": [
    "#probability for class 2 -length\n",
    "calculate_probability(np.mean(df_o['length_o']),mean2_len,cov2_len) "
   ]
  },
  {
   "cell_type": "markdown",
   "id": "9ec25de1",
   "metadata": {},
   "source": [
    "When we only consider the first feature(length),<br/>\n",
    "Class 1 has a bigger probability than Class2.<br/>\n",
    "Hence Class1 is reasonable according to the Decision Rule."
   ]
  },
  {
   "cell_type": "markdown",
   "id": "fd431199",
   "metadata": {},
   "source": [
    "#<br>\n",
    "d)Perform the above process only for the second feature (weight)<br/>\n",
    "#"
   ]
  },
  {
   "cell_type": "code",
   "execution_count": 249,
   "id": "29ae734a",
   "metadata": {},
   "outputs": [
    {
     "data": {
      "text/plain": [
       "GaussianNB()"
      ]
     },
     "execution_count": 249,
     "metadata": {},
     "output_type": "execute_result"
    }
   ],
   "source": [
    "gnb = GaussianNB()\n",
    "y = df_ver['class'].to_numpy()\n",
    "gnb.fit(df_ver.loc[:,['weight']].to_numpy(), y)"
   ]
  },
  {
   "cell_type": "code",
   "execution_count": 250,
   "id": "2213864f",
   "metadata": {},
   "outputs": [
    {
     "data": {
      "text/plain": [
       "array(['1', '1', '1', '1', '1', '1'], dtype='<U1')"
      ]
     },
     "execution_count": 250,
     "metadata": {},
     "output_type": "execute_result"
    }
   ],
   "source": [
    "y_pred = gnb.predict(obs['obs'])\n",
    "\n",
    "y_pred"
   ]
  },
  {
   "cell_type": "code",
   "execution_count": 53,
   "id": "1f52a965",
   "metadata": {},
   "outputs": [],
   "source": [
    "mean1_we = np.array([np.mean(df['weight_1'])],dtype=np.float32)\n",
    "mean2_we = np.array([np.mean(df['weight_2'])],dtype=np.float32)\n",
    "cov1_we = np.cov(df['weight_1'])\n",
    "cov2_we = np.cov(df['weight_2'])"
   ]
  },
  {
   "cell_type": "code",
   "execution_count": 54,
   "id": "60a8c5df",
   "metadata": {},
   "outputs": [
    {
     "data": {
      "text/plain": [
       "0.004872053159148831"
      ]
     },
     "execution_count": 54,
     "metadata": {},
     "output_type": "execute_result"
    }
   ],
   "source": [
    "#probability for class 1 - weight\n",
    "calculate_probability(np.mean(df_o['weight_o']),mean1_len,cov1_we) "
   ]
  },
  {
   "cell_type": "code",
   "execution_count": 55,
   "id": "1770ac4b",
   "metadata": {},
   "outputs": [
    {
     "data": {
      "text/plain": [
       "0.008867323431075432"
      ]
     },
     "execution_count": 55,
     "metadata": {},
     "output_type": "execute_result"
    }
   ],
   "source": [
    "#probability for class 2 -weight\n",
    "calculate_probability(np.mean(df_o['weight_o']),mean2_we,cov2_we) "
   ]
  },
  {
   "cell_type": "markdown",
   "id": "f8124630",
   "metadata": {},
   "source": [
    "When we only consider the second feature(weight),<br/>\n",
    "Class 2 has a bigger probability than Class1.<br/>\n",
    "Hence Class2 is reasonable according to the Decision Rule."
   ]
  },
  {
   "cell_type": "markdown",
   "id": "f218f037",
   "metadata": {},
   "source": [
    " ##<br>\n",
    " e) Explain why length or weight is the better feature for classification<br/>\n",
    " ##"
   ]
  },
  {
   "cell_type": "markdown",
   "id": "66c8dca2",
   "metadata": {},
   "source": [
    "##\n",
    "<br>The probability of length with class 1 and 2 are 0.0141 and 0.0095 respectively.\n",
    " The probability of weight with class 1 and 2 are 0.0048 and 0.0088 respectively.\n",
    " The probability of length is bigger than those of the weight.\n",
    " As following the Decision Rule, 'length' is a better feature for classifimcation. <br/>\n",
    "##"
   ]
  },
  {
   "cell_type": "markdown",
   "id": "d6533621",
   "metadata": {},
   "source": [
    "##\n",
    "<br>  4. (Classification on Iris data) Please implement Naïve Bayes Classification use the Iris data \n",
    "(Dataset.csv). In this dataset, there are 4 independent variables (sepal_length, sepal_width, \n",
    " petal_length and petal_width), and 3 dependent variables (setosa, versicolor and the \n",
    " virginica) to be predicted. You will use the various features of the flower (independent \n",
    " variables) to classify the given flower using Naïve Bayes Classifier. You should randomly \n",
    " choose 20% of the dataset as the test set and the remaining 80% as the training set. Please \n",
    " calculate the classification accuracy and confusion matrix on test set, the answer should \n",
    " include codes and some explanations.<br/>\n",
    "##"
   ]
  },
  {
   "cell_type": "code",
   "execution_count": 68,
   "id": "4df7cfd7",
   "metadata": {},
   "outputs": [],
   "source": [
    "from sklearn.model_selection import train_test_split # for splitting the data into train and test samples\n",
    "from sklearn.metrics import classification_report # for model evaluation metrics\n",
    "from sklearn.preprocessing import OrdinalEncoder # for encoding categorical features from strings to number arrays\n",
    "\n",
    "import plotly.express as px  # for data visualization\n",
    "import plotly.graph_objects as go # for data visualization\n",
    "\n",
    "# Differnt types of Naive Bayes Classifiers\n",
    "from sklearn.naive_bayes import GaussianNB\n",
    "from sklearn.naive_bayes import CategoricalNB\n",
    "from sklearn.naive_bayes import BernoulliNB\n",
    "\n",
    "from sklearn.metrics import precision_recall_curve\n",
    "from sklearn import metrics\n",
    "from sklearn.metrics import confusion_matrix, plot_confusion_matrix"
   ]
  },
  {
   "cell_type": "code",
   "execution_count": 57,
   "id": "072197e7",
   "metadata": {},
   "outputs": [],
   "source": [
    "dataset = pd.read_csv('Dataset.csv')"
   ]
  },
  {
   "cell_type": "code",
   "execution_count": 58,
   "id": "a7d25b89",
   "metadata": {},
   "outputs": [
    {
     "data": {
      "text/html": [
       "<div>\n",
       "<style scoped>\n",
       "    .dataframe tbody tr th:only-of-type {\n",
       "        vertical-align: middle;\n",
       "    }\n",
       "\n",
       "    .dataframe tbody tr th {\n",
       "        vertical-align: top;\n",
       "    }\n",
       "\n",
       "    .dataframe thead th {\n",
       "        text-align: right;\n",
       "    }\n",
       "</style>\n",
       "<table border=\"1\" class=\"dataframe\">\n",
       "  <thead>\n",
       "    <tr style=\"text-align: right;\">\n",
       "      <th></th>\n",
       "      <th>sepal_length</th>\n",
       "      <th>sepal_width</th>\n",
       "      <th>petal_length</th>\n",
       "      <th>petal_width</th>\n",
       "      <th>species</th>\n",
       "    </tr>\n",
       "  </thead>\n",
       "  <tbody>\n",
       "    <tr>\n",
       "      <th>0</th>\n",
       "      <td>5.1</td>\n",
       "      <td>3.5</td>\n",
       "      <td>1.4</td>\n",
       "      <td>0.2</td>\n",
       "      <td>setosa</td>\n",
       "    </tr>\n",
       "    <tr>\n",
       "      <th>1</th>\n",
       "      <td>4.9</td>\n",
       "      <td>3.0</td>\n",
       "      <td>1.4</td>\n",
       "      <td>0.2</td>\n",
       "      <td>setosa</td>\n",
       "    </tr>\n",
       "    <tr>\n",
       "      <th>2</th>\n",
       "      <td>4.7</td>\n",
       "      <td>3.2</td>\n",
       "      <td>1.3</td>\n",
       "      <td>0.2</td>\n",
       "      <td>setosa</td>\n",
       "    </tr>\n",
       "    <tr>\n",
       "      <th>3</th>\n",
       "      <td>4.6</td>\n",
       "      <td>3.1</td>\n",
       "      <td>1.5</td>\n",
       "      <td>0.2</td>\n",
       "      <td>setosa</td>\n",
       "    </tr>\n",
       "    <tr>\n",
       "      <th>4</th>\n",
       "      <td>5.0</td>\n",
       "      <td>3.6</td>\n",
       "      <td>1.4</td>\n",
       "      <td>0.2</td>\n",
       "      <td>setosa</td>\n",
       "    </tr>\n",
       "    <tr>\n",
       "      <th>...</th>\n",
       "      <td>...</td>\n",
       "      <td>...</td>\n",
       "      <td>...</td>\n",
       "      <td>...</td>\n",
       "      <td>...</td>\n",
       "    </tr>\n",
       "    <tr>\n",
       "      <th>145</th>\n",
       "      <td>6.7</td>\n",
       "      <td>3.0</td>\n",
       "      <td>5.2</td>\n",
       "      <td>2.3</td>\n",
       "      <td>virginica</td>\n",
       "    </tr>\n",
       "    <tr>\n",
       "      <th>146</th>\n",
       "      <td>6.3</td>\n",
       "      <td>2.5</td>\n",
       "      <td>5.0</td>\n",
       "      <td>1.9</td>\n",
       "      <td>virginica</td>\n",
       "    </tr>\n",
       "    <tr>\n",
       "      <th>147</th>\n",
       "      <td>6.5</td>\n",
       "      <td>3.0</td>\n",
       "      <td>5.2</td>\n",
       "      <td>2.0</td>\n",
       "      <td>virginica</td>\n",
       "    </tr>\n",
       "    <tr>\n",
       "      <th>148</th>\n",
       "      <td>6.2</td>\n",
       "      <td>3.4</td>\n",
       "      <td>5.4</td>\n",
       "      <td>2.3</td>\n",
       "      <td>virginica</td>\n",
       "    </tr>\n",
       "    <tr>\n",
       "      <th>149</th>\n",
       "      <td>5.9</td>\n",
       "      <td>3.0</td>\n",
       "      <td>5.1</td>\n",
       "      <td>1.8</td>\n",
       "      <td>virginica</td>\n",
       "    </tr>\n",
       "  </tbody>\n",
       "</table>\n",
       "<p>150 rows × 5 columns</p>\n",
       "</div>"
      ],
      "text/plain": [
       "     sepal_length  sepal_width  petal_length  petal_width    species\n",
       "0             5.1          3.5           1.4          0.2     setosa\n",
       "1             4.9          3.0           1.4          0.2     setosa\n",
       "2             4.7          3.2           1.3          0.2     setosa\n",
       "3             4.6          3.1           1.5          0.2     setosa\n",
       "4             5.0          3.6           1.4          0.2     setosa\n",
       "..            ...          ...           ...          ...        ...\n",
       "145           6.7          3.0           5.2          2.3  virginica\n",
       "146           6.3          2.5           5.0          1.9  virginica\n",
       "147           6.5          3.0           5.2          2.0  virginica\n",
       "148           6.2          3.4           5.4          2.3  virginica\n",
       "149           5.9          3.0           5.1          1.8  virginica\n",
       "\n",
       "[150 rows x 5 columns]"
      ]
     },
     "execution_count": 58,
     "metadata": {},
     "output_type": "execute_result"
    }
   ],
   "source": [
    "dataset"
   ]
  },
  {
   "cell_type": "code",
   "execution_count": 64,
   "id": "ba756aa2",
   "metadata": {},
   "outputs": [],
   "source": [
    "from sklearn.metrics import confusion_matrix, plot_confusion_matrix\n",
    "import matplotlib.pyplot as plt"
   ]
  },
  {
   "cell_type": "code",
   "execution_count": 72,
   "id": "144f816f",
   "metadata": {},
   "outputs": [],
   "source": [
    "def perf_measure(y_true, y_pred):\n",
    "    CM = confusion_matrix(y_true, y_pred)\n",
    "\n",
    "    TN = CM[0][0]\n",
    "    FN = CM[1][0]\n",
    "    TP = CM[1][1]\n",
    "    FP = CM[0][1]\n",
    "\n",
    "    return(\"TP:\",TP, \"FP:\", FP,\"TN:\", TN, \"FN:\",FN)"
   ]
  },
  {
   "cell_type": "code",
   "execution_count": 73,
   "id": "988540cf",
   "metadata": {},
   "outputs": [],
   "source": [
    "# Function that handles sample splitting, model fitting and report printing \n",
    "def mfunc(X, y, typ):\n",
    "    \n",
    "    # Create training and testing samples\n",
    "    X_train, X_test, y_train, y_test = train_test_split(X, y, test_size=0.2, random_state=0)\n",
    "\n",
    "    # Fit the model\n",
    "    model = typ\n",
    "    clf = model.fit(X_train, y_train)\n",
    "\n",
    "    # Predict class labels on a test data\n",
    "    pred_labels = model.predict(X_test)\n",
    "    \n",
    "    # Print model attributes \n",
    "    print('Classes: ', clf.classes_) # class labels known to the classifier\n",
    "    if str(typ)=='GaussianNB()':\n",
    "        print('Class Priors: ',clf.class_prior_) # prior probability of each class.\n",
    "    else: \n",
    "        print('Class Log Priors: ',clf.class_log_prior_) # log prior probability of each class.\n",
    "        \n",
    "    # Use score method to get accuracy of the model\n",
    "    print('--------------------------------------------------------')\n",
    "    score = model.score(X_test, y_test)\n",
    "    print('Accuracy Score: ', score)\n",
    "    print('--------------------------------------------------------')\n",
    "    \n",
    "    # Look at classification report to evaluate the model\n",
    "    print(classification_report(y_test, pred_labels))\n",
    "    \n",
    "    print(\"\\nConfusion Matrix for Test Set\")\n",
    "    print(perf_measure(y_test,pred_labels)) \n",
    "\n",
    "    # Return relevant data for chart plotting\n",
    "    return X_train, X_test, y_train, y_test, clf, pred_labels"
   ]
  },
  {
   "cell_type": "code",
   "execution_count": 75,
   "id": "9a2d62ed",
   "metadata": {},
   "outputs": [
    {
     "name": "stdout",
     "output_type": "stream",
     "text": [
      "Classes:  ['setosa' 'versicolor' 'virginica']\n",
      "Class Priors:  [0.325      0.30833333 0.36666667]\n",
      "--------------------------------------------------------\n",
      "Accuracy Score:  0.8666666666666667\n",
      "--------------------------------------------------------\n",
      "              precision    recall  f1-score   support\n",
      "\n",
      "      setosa       1.00      1.00      1.00        11\n",
      "  versicolor       0.85      0.85      0.85        13\n",
      "   virginica       0.67      0.67      0.67         6\n",
      "\n",
      "    accuracy                           0.87        30\n",
      "   macro avg       0.84      0.84      0.84        30\n",
      "weighted avg       0.87      0.87      0.87        30\n",
      "\n",
      "\n",
      "Confusion Matrix for Test Set\n",
      "('TP:', 11, 'FP:', 0, 'TN:', 11, 'FN:', 0)\n"
     ]
    }
   ],
   "source": [
    "# Select data for modeling -------> for length feature \n",
    "X=dataset[['sepal_length', 'petal_length']]\n",
    "y=dataset['species'].values\n",
    "\n",
    "# Fit the model and print the result\n",
    "X_train, X_test, y_train, y_test, clf, pred_labels, = mfunc(X, y, GaussianNB())"
   ]
  },
  {
   "cell_type": "code",
   "execution_count": 76,
   "id": "934ac66c",
   "metadata": {},
   "outputs": [
    {
     "name": "stdout",
     "output_type": "stream",
     "text": [
      "Classes:  ['setosa' 'versicolor' 'virginica']\n",
      "Class Priors:  [0.325      0.30833333 0.36666667]\n",
      "--------------------------------------------------------\n",
      "Accuracy Score:  0.9666666666666667\n",
      "--------------------------------------------------------\n",
      "              precision    recall  f1-score   support\n",
      "\n",
      "      setosa       1.00      1.00      1.00        11\n",
      "  versicolor       0.93      1.00      0.96        13\n",
      "   virginica       1.00      0.83      0.91         6\n",
      "\n",
      "    accuracy                           0.97        30\n",
      "   macro avg       0.98      0.94      0.96        30\n",
      "weighted avg       0.97      0.97      0.97        30\n",
      "\n",
      "\n",
      "Confusion Matrix for Test Set\n",
      "('TP:', 13, 'FP:', 0, 'TN:', 11, 'FN:', 0)\n"
     ]
    }
   ],
   "source": [
    "# Select data for modeling -------> for width feature \n",
    "X=dataset[['sepal_width', 'petal_width']]\n",
    "y=dataset['species'].values\n",
    "\n",
    "# Fit the model and print the result\n",
    "X_train, X_test, y_train, y_test, clf, pred_labels, = mfunc(X, y, GaussianNB())"
   ]
  },
  {
   "cell_type": "code",
   "execution_count": null,
   "id": "6c6875fe",
   "metadata": {},
   "outputs": [],
   "source": []
  }
 ],
 "metadata": {
  "kernelspec": {
   "display_name": "Python 3",
   "language": "python",
   "name": "python3"
  },
  "language_info": {
   "codemirror_mode": {
    "name": "ipython",
    "version": 3
   },
   "file_extension": ".py",
   "mimetype": "text/x-python",
   "name": "python",
   "nbconvert_exporter": "python",
   "pygments_lexer": "ipython3",
   "version": "3.8.8"
  }
 },
 "nbformat": 4,
 "nbformat_minor": 5
}
